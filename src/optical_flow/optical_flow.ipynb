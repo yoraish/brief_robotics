{
 "cells": [
  {
   "cell_type": "markdown",
   "metadata": {},
   "source": [
    "# Optical Flow for Odometry Estimation.\n",
    "\n",
    "Our robots move in the real world! It is truly amazing!\n",
    "As they move, it is important for them to know _how much_ they have moved. \n",
    "\n",
    "For example, if a robot has a map of a house, and it knows that the kitchen is 10 meters away from it in the forward direction, then it could navigate there only by moving forward and stopping after 10 meters. It is truly that simple! If the robot can measure its own motion that is. \n",
    "\n",
    "This type of motion is called **Ego-motion**, and the computation of the distance traversed is called **Odometry**. From the Greek words _Odos_ and _Metron_, which mean _route_ and _measure_.\n",
    "\n",
    "\n",
    "The Odometry Estimation problem consists of two main steps; Finding **good patches** (feature extraction) to look for **correspondences** between sequential images and constructing the **optical flow field**. As for the first, there are multiple approaches to solve this callenge, such as using [Harris Corner Detector](https://medium.com/data-breach/introduction-to-harris-corner-detector-32a88850b3f6). Having these \"good\" patches (\"matchable\" points between frames) we can use various methods to construct the _optical flow field_ such as the **Lucas-Kanade method**. In this tutorial, we will focus on the second - _constructing the optical flow field_. \n",
    "\n",
    "So what is optical flow? Suppose our camera moves with respect to the world then a point in the world moves with respect to the camera. As a result, the point's projection in the image moves as well. This movement in the image plane is called _Optical Flow_. \n",
    "\n",
    "Now, let's do some math!\n",
    "\n",
    "**Note:** We solve the 2D SLAM problem, meaning our _z_ coordinate is constant.  "
   ]
  },
  {
   "cell_type": "markdown",
   "metadata": {},
   "source": [
    "Having a point $(x, y)$ in the image plane which moves to $(x + \\Delta x, y + \\Delta y)$ in time $\\Delta t$. Then we say that the optical flow components $(u, v)$ are as follows:\n",
    "$$ u = \\frac{\\Delta x}{\\Delta t}, v = \\frac{\\Delta y}{\\Delta t} $$\n",
    "\n",
    "One of the simplest approaches to find the optical flow is to assume that the flow is constant over local patch. Thus, we can use _Lucas Kanade_ tracker! But first, we need to find patches to use! Here, we assume that every patch in the image is a good patch, only for simplicity but no worries - we will publish an additional tutorial about the various methods one might use. \n",
    "\n",
    "Okay, let's assume we have a good patch to track and we will define it as a $NxN$ array of pixels located in the center of the image. \n"
   ]
  },
  {
   "cell_type": "markdown",
   "metadata": {},
   "source": [
    "### Lucas-Kanade (LK) method\n",
    "---\n",
    "\n",
    "Let's define a warp $W(\\textbf{x})$ as an $SE(2)$ transformation such that\n",
    "$$ W(\\textbf{x}) = \\textbf{R} \\textbf{x} + \\textbf{t} = \\textbf{A} \\tilde{\\textbf{x}} $$ \n",
    "where $ \\textbf{R} \\in SO(2), \\textbf{t} \\in \\mathbb{R}, \\textbf{A} \\in SE(2)$ and $\\tilde{\\textbf{x}} = \\begin{bmatrix} \\textbf{x} \\\\ 1 \\end{bmatrix}$ is the homogeneous ccordinates of $\\textbf{x} \\in \\mathbb{R}^2$. \n",
    "\n",
    "\n",
    "We want to find the warp between every two sequential image frames given to us by the system, to constract the odometry. Thus, our _LK_ algorithm should return a matrix $\\textbf{A}_{i+1}^i  \\in SE(2)$ when given a two sequential frames $I_i and I_{i+1}$.\n",
    "\n",
    "We want to solve the following nonlinear least-square problem:\n",
    "\n",
    "$$ min_{\\mathbf{p}} \\sum_{(x, y) \\in w}  [I_{i+1} (W(\\mathbf{x})) - I_{i}(\\mathbf{x})]^2$$\n",
    "Where $w$ is window and $\\mathbf{p} \\in \\mathbb{R}^4$ is the vector which defines the transformation matrix:\n",
    "\n",
    "$$ A = \\begin{bmatrix} \n",
    "1 + p_1 & -p_2 & p_3 \\\\\n",
    "p_2 & 1 + p_1 & p_4 \\\\\n",
    "0 & 0 & 1\n",
    "\\end{bmatrix}\n",
    "$$\n",
    "\n",
    "(We can also write $A = \\begin{bmatrix} \n",
    "1 + p_1 & -p_2 & p_3 \\\\\n",
    "p_2 & 1 + p_1 & p_4\n",
    "\\end{bmatrix}$)\n",
    "\n",
    "Denote that the rotation matrix is \n",
    "$\\mathbf{R} = \\begin{bmatrix} 1 + p_1 & -p_2 \\\\ p_2 & 1 + p_1 \\end{bmatrix}$ \n",
    "and the translation vector is $ \\mathbf{t} = \\begin{bmatrix} p_3 \\\\ p_4 \\end{bmatrix}$\n",
    "\n",
    "Why did we defined the diagonal elements as $p_1 +1$? It's comfortable because when $p_1 = 0$ we get the identity matrix."
   ]
  },
  {
   "cell_type": "code",
   "execution_count": 4,
   "metadata": {},
   "outputs": [],
   "source": [
    "# OK!! Lets code!\n",
    "# If you don't have pne (or more) of the following packages installed, just uncomment them and run the cell!\n",
    "# !pip install opencv-contrib-python\n",
    "# !pip install numpy\n",
    "# !pip install scipy"
   ]
  },
  {
   "cell_type": "code",
   "execution_count": 5,
   "metadata": {},
   "outputs": [],
   "source": [
    "import numpy as np\n",
    "from scipy.interpolate import RectBivariateSpline\n",
    "import cv2"
   ]
  },
  {
   "cell_type": "code",
   "execution_count": 6,
   "metadata": {},
   "outputs": [],
   "source": [
    "def LucasKanade(It, It1, threshold, num_iters):\n",
    "    \"\"\"\n",
    "    :param It: template image\n",
    "    :param It1: Current image\n",
    "    :param threshold: if the length of dp is smaller than the threshold, terminate the optimization\n",
    "    :param num_iters: number of iterations of the optimization\n",
    "    :return: M: the Affine warp matrix [2x3 numpy array] put your implementation here\n",
    "    \"\"\"\n",
    "\n",
    "    # put your implementation here\n",
    "    M = np.array([[1.0, 0.0, 0.0], [0.0, 1.0, 0.0]])\n",
    "    del_p = 10e3\n",
    "    # Use RectBivariateSpline to define an object on which we can calculate spline interpolations including derivatives\n",
    "    It1_spline = RectBivariateSpline(np.arange(It1.shape[0]), np.arange(It1.shape[1]), It1)\n",
    "    It_spline = RectBivariateSpline(np.arange(It.shape[0]), np.arange(It.shape[1]), It)\n",
    "\n",
    "    x, y = np.mgrid[:It.shape[1], :It.shape[0]]\n",
    "    x, y = x.T, y.T\n",
    "    p = M.flatten() - np.array([1, 0, 0, 0, 1, 0])  # Subtracting the ones\n",
    "    iter_ = 0\n",
    "    while np.linalg.norm(del_p) > threshold and iter_ <= num_iters:\n",
    "        X, Y = (1 + p[0])*x + p[2]*y + p[4], p[1]*x + (1 + p[3])*y + p[5]\n",
    "\n",
    "        valid = (X >= 0) & (X < It.shape[1]) & (Y >= 0) & (Y < It.shape[0])\n",
    "        X, Y = X[valid], Y[valid]\n",
    "        x_, y_ = x[valid], y[valid]\n",
    "        It_int = It_spline.ev(y_, x_).flatten()\n",
    "\n",
    "        It1_int = It1_spline.ev(p[1]*x_ + (1 + p[3])*y_ + p[5], (1 + p[0])*x_ + p[2]*y_ + p[4]).flatten()\n",
    "\n",
    "        b = (It_int - It1_int).reshape(-1, 1)\n",
    "\n",
    "        It1_dx = It1_spline.ev(Y, X, dy=1).flatten()\n",
    "        It1_dy = It1_spline.ev(Y, X, dx=1).flatten()\n",
    "\n",
    "        A = np.vstack((np.multiply(It1_dx, x_), np.multiply(It1_dy, x_), np.multiply(It1_dx, y_),\n",
    "                                                                                   np.multiply(It1_dy, y_),\n",
    "                                                                                               It1_dx, It1_dy)).T\n",
    "        del_p = np.linalg.inv(A.T @ A) @ (A.T @ b)\n",
    "        p += del_p.flatten()\n",
    "        iter_ += 1\n",
    "\n",
    "    M = np.array([[1 + p[0], p[2], p[4]], [p[1], 1 + p[3], p[5]]])\n",
    "    return M"
   ]
  },
  {
   "cell_type": "code",
   "execution_count": null,
   "metadata": {},
   "outputs": [],
   "source": []
  }
 ],
 "metadata": {
  "kernelspec": {
   "display_name": "Python 3 (ipykernel)",
   "language": "python",
   "name": "python3"
  },
  "language_info": {
   "codemirror_mode": {
    "name": "ipython",
    "version": 3
   },
   "file_extension": ".py",
   "mimetype": "text/x-python",
   "name": "python",
   "nbconvert_exporter": "python",
   "pygments_lexer": "ipython3",
   "version": "3.9.12"
  }
 },
 "nbformat": 4,
 "nbformat_minor": 4
}
