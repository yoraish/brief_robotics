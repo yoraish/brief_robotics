{
 "cells": [
  {
   "cell_type": "markdown",
   "metadata": {},
   "source": [
    "# Optical Flow for Odometry Estimation.\n",
    "\n",
    "Our robots move in the real world! It is truly amazing!\n",
    "As they move, it is important for them to know _how much_ they have moved. \n",
    "\n",
    "For example, if a robot has a map of a house, and it knows that the kitchen is 10 meters away from it in the forward direction, then it could navigate there only by moving forward and stopping after 10 meters. It is truly that simple! If the robot can measure its own motion that is. \n",
    "\n",
    "This type of motion is called **ego-motion**, and the computation of the distance traversed is called **odometry**. From the Greek words _Odos_ and _metron_, which mean _route_ and _measure_.\n",
    "\n",
    "\n",
    "The Odometry Estimation problem consists of two main steps; Finding **good patches** (feature extraction) to look for **correspondences** between sequential images and constructing the **optical flow field**. As for the first, there are multiple approaches to solve this callenge, such as using [Harris Corner Detector](https://medium.com/data-breach/introduction-to-harris-corner-detector-32a88850b3f6). Having these \"good\" patches (\"matchable\" points between frames) we can use various methods to construct the _optical flow field_ such as the **Lucas-Kanade method**. In this tutorial, we will focus on the second - _constructing the optical flow field_.  \n",
    "\n",
    "**Note:** We solve the 2D SLAM problem, meaning our _z_ coordinate is constant.  "
   ]
  },
  {
   "cell_type": "markdown",
   "metadata": {},
   "source": [
    "### "
   ]
  }
 ],
 "metadata": {
  "kernelspec": {
   "display_name": "Python 3 (ipykernel)",
   "language": "python",
   "name": "python3"
  },
  "language_info": {
   "codemirror_mode": {
    "name": "ipython",
    "version": 3
   },
   "file_extension": ".py",
   "mimetype": "text/x-python",
   "name": "python",
   "nbconvert_exporter": "python",
   "pygments_lexer": "ipython3",
   "version": "3.9.12"
  }
 },
 "nbformat": 4,
 "nbformat_minor": 4
}
