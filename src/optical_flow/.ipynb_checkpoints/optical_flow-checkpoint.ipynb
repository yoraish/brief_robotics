{
 "cells": [
  {
   "cell_type": "markdown",
   "metadata": {},
   "source": [
    "# Optical Flow for Odometry Estimation.\n",
    "\n",
    "Our robots move in the real world! It is truly amazing!\n",
    "As they move, it is important for them to know _how much_ they have moved. \n",
    "\n",
    "For example, if a robot has a map of a house, and it knows that the kitchen is 10 meters away from it in the forward direction, then it could navigate there only by moving forward and stopping after 10 meters. It is truly that simple! If the robot can measure its own motion that is. \n",
    "\n",
    "This type of motion is called **ego-motion**, and the computation of the distance traversed is called **odometry**. From the Greek wods _Odos_ and _metron_, which mean _route_ and _measure_.\n",
    "\n",
    "\n",
    "\n",
    "\n"
   ]
  },
  {
   "cell_type": "markdown",
   "metadata": {},
   "source": []
  }
 ],
 "metadata": {
  "language_info": {
   "name": "python"
  },
  "orig_nbformat": 4
 },
 "nbformat": 4,
 "nbformat_minor": 2
}
