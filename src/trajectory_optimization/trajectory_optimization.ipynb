{
 "cells": [
  {
   "cell_type": "markdown",
   "metadata": {},
   "source": [
    "# Trajectory optimization\n",
    "\n",
    "As a robot moves around the world, it can accumulates readings of its own motion. _\"I have moved a meters forward!\"_, a robot may exclaim after querying a sensor. _\"One meter forward and twenty to the left!\"_, after another reading. And you get how that goes.\n",
    "\n",
    "After some time, a robot may have collected a _sequence_ of measurements that, when put together, are representative of its entire trajectory. However, there is an immediate danger in this formulation! If a single measurement is wrong, the rest will carry over its error.\n",
    "\n",
    "For example, if we have the readings:\n",
    "* `forward 1m and rotate 90 degree to the left`, \n",
    "* `forward 1m and rotate 90 degree to the left`, \n",
    "* `forward 1m and rotate 90 degree to the left`, \n",
    "* `forward 1m and rotate 90 degree to the left`, \n",
    "\n",
    "the robot believes that it drew a square and got back to its starting position. \n",
    "\n",
    "However, if the readings change to \n",
    "\n",
    "* `forward 1m and rotate 90 degree to the left`, \n",
    "* `forward 1m and rotate 90 degree to the left`, \n",
    "* `forward 1m and rotate` **45 degree to the left**, \n",
    "* `forward 1m and rotate 90 degree to the left`, \n",
    "\n",
    "then the robot believes that it traveled to a point to the left of its starting point. This is called odometry drift. It is the scenario where error in odometry readings get carried over to the next position estimates.\n",
    "\n",
    "Hope is not all lost, however! Given additional information, robots can correct the estimates of their position in the world and also correct backwards (smooth) their entire trajectory. \n",
    "Back to our simple example, if the robot knew somehow that the end position of its third motion was one meter to the left of the origin, then it would get there corrected readings:\n",
    "\n",
    "* `forward 1m and rotate 90 degree to the left`, \n",
    "* `forward 1m and rotate 90 degree to the left`, \n",
    "* ~~`forward 1m and rotate` 45 degree to the left~~  **at one meter to the left of the origin and facing it** \n",
    "* `forward 1m and rotate 90 degree to the left`, \n",
    "\n",
    "and the robot would believe that it is back at the initial position and also that it has turned 90 degrees in its third motion.\n",
    "\n",
    "In this section we'll be exploring this problem, which we call **trajectory optimization**, in depth.\n",
    "\n",
    "We'll be \n",
    "* Discussing rigid transformations in 2-dimensions.\n",
    "* Discussing landmark observations.\n",
    "* Discussing optimization problems in general.\n",
    "* Formalizing the trajectory optimization problem.\n",
    "* Solving the optimization problem with GTSAM.\n",
    "\n",
    "Let's get to work!"
   ]
  },
  {
   "cell_type": "markdown",
   "metadata": {},
   "source": [
    "# TODO add figure for odometry drift."
   ]
  },
  {
   "cell_type": "markdown",
   "metadata": {},
   "source": [
    "# Rigid Transformations in 2D\n",
    "\n",
    "Notation\n",
    "Transformations\n",
    "Inverse transformations\n",
    "\n",
    "Chaining together motion estimates.\n",
    "Introducing the Trajectory (Graph) class.\n"
   ]
  },
  {
   "cell_type": "markdown",
   "metadata": {},
   "source": [
    "### Implementing a transformation from human-readable inputs."
   ]
  },
  {
   "cell_type": "code",
   "execution_count": 1,
   "metadata": {},
   "outputs": [],
   "source": [
    "import numpy as np\n",
    "import gtsam"
   ]
  },
  {
   "cell_type": "code",
   "execution_count": null,
   "metadata": {},
   "outputs": [],
   "source": [
    "class Trajectory():\n",
    "    def __init__(self) -> None:\n",
    "        # Noise.\n",
    "        self.ODOM_NOISE =     gtsam.noiseModel.Diagonal.Sigmas(np.array([0.3, 0.3, 0.1]))\n",
    "        self.LANDMARK_NOISE = gtsam.noiseModel.Diagonal.Sigmas(np.array([0.03, 0.03, 0.03]))\n",
    "        self.PRIOR_NOISE =    gtsam.noiseModel.Diagonal.Sigmas(np.array([0.00003, 0.00003, 0.00001]))\n",
    "\n",
    "        # Landmarks.\n",
    "        self.landmarks = set()\n",
    "\n",
    "        # Measurements. Mapping nodes to RangeMeasurement's/\n",
    "        self.measurements = {}\n",
    "        \n",
    "        # Keep track of xy edges and build matrix C only after optimizing for angles.\n",
    "        self.edges = []\n",
    "\n",
    "        # Should we optimize after every edge addition?\n",
    "        self.online = False"
   ]
  },
  {
   "cell_type": "markdown",
   "metadata": {},
   "source": [
    "### Inverse Transformations."
   ]
  },
  {
   "cell_type": "code",
   "execution_count": null,
   "metadata": {},
   "outputs": [],
   "source": []
  },
  {
   "cell_type": "markdown",
   "metadata": {},
   "source": [
    "# Landmark observations.\n",
    "What and why\n",
    "\n",
    "Observation model. Adding observations to our class.\n",
    "Relating pose estimates via landmark observations (loop closures)"
   ]
  },
  {
   "cell_type": "markdown",
   "metadata": {},
   "source": [
    "### Creating virtual measurements between poses."
   ]
  },
  {
   "cell_type": "code",
   "execution_count": null,
   "metadata": {},
   "outputs": [],
   "source": [
    "# Given a dictionary relating odometry pose estimates to landmarks, and a relative pose between an odometry estimate and some landmark return a list of relative poses between the other nodes that have seen this landmark."
   ]
  },
  {
   "cell_type": "code",
   "execution_count": null,
   "metadata": {},
   "outputs": [],
   "source": []
  },
  {
   "cell_type": "markdown",
   "metadata": {},
   "source": [
    "### Optimization Primer\n",
    "\n",
    "In this section we are not going to dive too deep into the background of optimization theory. In fact, we will almost completely leave the actual optimization of the pose graph  (the trajectory optimization) as a black box.\n",
    "\n",
    "It is helpful, however, to understand what optimization is and how it could be solved."
   ]
  },
  {
   "cell_type": "code",
   "execution_count": null,
   "metadata": {},
   "outputs": [],
   "source": [
    "# Least squares line fitting.\n"
   ]
  },
  {
   "cell_type": "markdown",
   "metadata": {},
   "source": [
    "### Trajectory Optimization.\n",
    "\n",
    "Formulation of cost function and analogy to least squares linear regression\n",
    "\n",
    "provide code for optimization."
   ]
  }
 ],
 "metadata": {
  "kernelspec": {
   "display_name": "Python 3.8.10 64-bit",
   "language": "python",
   "name": "python3"
  },
  "language_info": {
   "codemirror_mode": {
    "name": "ipython",
    "version": 3
   },
   "file_extension": ".py",
   "mimetype": "text/x-python",
   "name": "python",
   "nbconvert_exporter": "python",
   "pygments_lexer": "ipython3",
   "version": "3.8.10"
  },
  "orig_nbformat": 4,
  "vscode": {
   "interpreter": {
    "hash": "916dbcbb3f70747c44a77c7bcd40155683ae19c65e1c03b4aa3499c5328201f1"
   }
  }
 },
 "nbformat": 4,
 "nbformat_minor": 2
}
