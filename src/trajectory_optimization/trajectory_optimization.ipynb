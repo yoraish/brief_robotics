{
 "cells": [
  {
   "cell_type": "markdown",
   "metadata": {},
   "source": [
    "# Trajectory optimization\n",
    "\n",
    "As a robot moves around the world, it can accumulates readings of its own motion. _\"I have moved a meters forward!\"_, a robot may exclaim after querying a sensor. _\"One meter forward and twenty to the left!\"_, after another reading. And you get how that goes.\n",
    "\n",
    "After some time, a robot may have collected a _sequence_ of measurements that, when put together, are representative of its entire trajectory. However, there is an immediate danger in this formulation! If a single measurement is wrong, the rest will carry over its error.\n",
    "\n",
    "For example, if we have the readings:\n",
    "* `forward 1m and rotate 90 degree to the left`, \n",
    "* `forward 1m and rotate 90 degree to the left`, \n",
    "* `forward 1m and rotate 90 degree to the left`, \n",
    "* `forward 1m and rotate 90 degree to the left`, \n",
    "\n",
    "the robot believes that it drew a square and got back to its starting position. \n",
    "\n",
    "However, if the readings change to \n",
    "\n",
    "* `forward 1m and rotate 90 degree to the left`, \n",
    "* `forward 1m and rotate 90 degree to the left`, \n",
    "* `forward 1m and rotate` **45 degree to the left**, \n",
    "* `forward 1m and rotate 90 degree to the left`, \n",
    "\n",
    "then the robot believes that it traveled to a point to the left of its starting point. This is called odometry drift. It is the scenario where error in odometry readings get carried over to the next position estimates.\n",
    "\n",
    "Hope is not all lost, however! Given additional information, robots can correct the estimates of their position in the world and also correct backwards (smooth) their entire trajectory. \n",
    "Back to our simple example, if the robot knew somehow that the end position of its third motion was one meter to the left of the origin, then it would get there corrected readings:\n",
    "\n",
    "* `forward 1m and rotate 90 degree to the left`, \n",
    "* `forward 1m and rotate 90 degree to the left`, \n",
    "* ~~`forward 1m and rotate` 45 degree to the left~~  **at one meter to the left of the origin and facing it** \n",
    "* `forward 1m and rotate 90 degree to the left`, \n",
    "\n",
    "and the robot would believe that it is back at the initial position and also that it has turned 90 degrees in its third motion.\n",
    "\n",
    "In this section we'll be exploring this problem, which we call **trajectory optimization**, in depth.\n",
    "\n",
    "We'll be \n",
    "* Discussing rigid transformations in 2-dimensions.\n",
    "* Discussing landmark observations.\n",
    "* Discussing optimization problems in general.\n",
    "* Formalizing the trajectory optimization problem.\n",
    "* Solving the optimization problem with GTSAM.\n",
    "\n",
    "Let's get to work!"
   ]
  },
  {
   "cell_type": "markdown",
   "metadata": {},
   "source": [
    "# TODO add figure for odometry drift."
   ]
  },
  {
   "cell_type": "markdown",
   "metadata": {},
   "source": [
    "# Rigid Transformations in 2D\n",
    "\n",
    "To converse about motion and localization in robotics it is helpful to agree on a couple of common conventions.\n",
    "\n",
    "**Directions**\n",
    "\n",
    "We'll adopt the right-handed coordinate system for our discussion.\n",
    "* The front of the robot faces the positive $x$ direction.\n",
    "* The left side of the robot faces the positive $y$ direction.\n",
    "* The top of the robot faces the positive $z$ direction. Since we operate in two dimensions, we care less for this axis right now.\n",
    "* A positive rotation angle $\\theta$ is according to the right-hand-rule, with the thumb pointing towards the $z$ direction and zero being on the $x$ axis.\n",
    "\n",
    "**Poses** \n",
    "\n",
    "We will parameterize a trajectory as a sequence of poses, $p_0, p_1, p_2, \\dots, p_N$. Each pose is defined as a position (also called translation) and a rotation (also called orientation) in a fixed \"world\" frame. This world frame could be the initial pose of the robot, its charging station, some well known corner of a room, or another arbitrary position and orientation.\n",
    "\n",
    "Note that we have specified a point  $(x,y)$ with a rotation $\\theta$, within some world frame $w$. This means that the pose $(x=1,y=0,\\theta=10)$ lies exactly one meter ahead of the world origin and rotated from its $x$ axis by 10 degrees to the left (it is almost aligned with its $x$ axis), for example. It is important to be complete about our notation to avoid confusion! So let's call this transformation $X^w_0$, denoting the transformation **from** the world frame $w$ **to** the zero-th pose $p_0$.\n",
    "In this case we call $w$ the parent frame and $0$ the child frame.\n",
    "\n",
    "To build some intuition, what would be the transformation $X_w^0$?\n",
    "\n",
    "It would be the origin of the world frame $w$ in the frame of $op_0$. The transformation **from** $p_0$ to $w$. \n",
    "\n",
    "**Transformations**\n",
    "\n",
    "So far, we have talked about poses in a world frame. We can continue our discussion and also talk about transformations between any frame to any other frame! As an example, we could ask where is the robot one second after the last time we have checked? Or in other words, _what is the transformation between time step $i$ to time step $i+1$?_ In general terms, it would be an object that denotes the motion of the robot. If we were standing at the pose of the robot at time $t$, then our transformation would tell us how to move to reflect the robot's pose at time $t+1$. We'll denote this kind of object as $X^i_{i+1}$. \n",
    "\n",
    "A transformation in two dimensions is a member of the \"special euclidean\" ($SE(2)$) group. This group is a group of matrices that encode rotations and translations. Each matrix $X \\in SO(2)$ (_\"$X$ in $SE(2)$\"_) is composed of a rotation matrix $R$ in the \"special orthogonal\" ($SO(2)$) group and a translation vector $\\mathbf{t}\\in\\mathbb{R}^2$. The rotation matrix is allowed to, obviously perhaps, rotate poses in space but not to scale or shear them. (Formally, it has to be orthogonal and have determinant with value 1.) This makes sense as a rotating robot often cannot change its shape. The translation vector takes on the shape of $[\\Delta x, \\Delta y]^\\top$, and encodes the motion of a robot along its $x$ and $y$ axes. The constraint on $\\mathbf{t}$ is such that its components are real numbers. \n",
    "\n",
    "If a robot moved by some $\\Delta x, \\Delta y$ meters and turned by $\\theta$ radians, then the rotation matrix and translation vector\n",
    "\n",
    "$$R = \\begin{bmatrix}\n",
    "\\cos(\\theta) & \\sin(\\theta)\\\\\n",
    "-\\sin(\\theta) & \\cos(\\theta)\\\\\n",
    "\\end{bmatrix}, \\ \\ \\ \n",
    "\\mathbf{t} = \\begin{bmatrix}\n",
    "\\Delta x\\\\\n",
    "\\Delta y\\\\\n",
    "\\end{bmatrix}$$\n",
    "\n",
    "Given this construction, to characterize the rotation of a robot by $\\Delta \\theta$ radians and translation by $[\\Delta y_i, \\Delta \\theta_i]$ meters (in this order), bothe specified in the robot frame at time $i$, we would compute\n",
    "\n",
    "$$\\theta_{i+1}^w = \\theta_i^w + \\Delta \\theta$$\n",
    "$$R^{i}_{i+1} = \\begin{bmatrix}\n",
    "\\cos(\\Delta \\theta) & \\sin(\\Delta \\theta)\\\\\n",
    "-\\sin(\\Delta \\theta) & \\cos(\\Delta \\theta)\\\\\n",
    "\\end{bmatrix}$$\n",
    "$$\\mathbf{t}^{i}_{i+1} = \\begin{bmatrix}\n",
    "\\Delta x^i_{i+1}\\\\\n",
    "\\Delta y^i_{i+1}\\\\\n",
    "\\end{bmatrix}$$\n",
    "<!-- \n",
    "$$\\begin{bmatrix}\n",
    "x^w_{i+1}\\\\\n",
    "y^w_{i+1}\\\\\n",
    "\\end{bmatrix} = \n",
    "\\begin{bmatrix}\n",
    "\\cos(\\Delta \\theta) & \\sin(\\Delta \\theta)\\\\\n",
    "-\\sin(\\Delta \\theta) & \\cos(\\Delta \\theta)\\\\\n",
    "\\end{bmatrix}\\begin{bmatrix}\n",
    " x^w_i\\\\\n",
    " y^w_i\\\\\n",
    "\\end{bmatrix} + \\begin{bmatrix}\n",
    "\\Delta x\\\\\n",
    "\\Delta y\\\\\n",
    "\\end{bmatrix}$$ -->\n",
    "\n",
    "And in  our shorthand:\n",
    "$$ X^i_{i+1} = \\begin{bmatrix}\n",
    "R^i_{i+1} & \\mathbf{t}^i_{i+1} \\\\\n",
    "\\mathbf{0} &1\n",
    "\\end{bmatrix}$$\n",
    "\n",
    "This matrix is applied on homogenous coordinate points in the frame of the robot in time $i$ to be transformed to time $i+1$. For example, if the front of the robot is defined to be $x_f$ ahead of the center of the robot (the robot origin, let's say), then the robot front after the transformation would be in \n",
    "\n",
    "$$\\begin{bmatrix}\n",
    "{x_f}_{i+1}\\\\\n",
    "{y_f}_{i+1}\\\\\n",
    "1\n",
    "\\end{bmatrix} = X^{i}_{i+1} \\begin{bmatrix}\n",
    "{x_f}_i\\\\\n",
    "{y_f}_i\\\\\n",
    "1\n",
    "\\end{bmatrix}\n",
    "\n",
    "<!-- $$ X^w_i = X^{i}_{i+1}X^w_{i+1}$$ -->\n",
    "\n",
    "\n",
    "\n",
    "Chaining transformations\n",
    "Inverse transformations\n",
    "\n",
    "Chaining together motion estimates.\n",
    "Introducing the Trajectory (Graph) class.\n"
   ]
  },
  {
   "cell_type": "markdown",
   "metadata": {},
   "source": [
    "### Implementing a transformation from human-readable inputs."
   ]
  },
  {
   "cell_type": "code",
   "execution_count": 1,
   "metadata": {},
   "outputs": [],
   "source": [
    "import numpy as np\n",
    "import gtsam"
   ]
  },
  {
   "cell_type": "code",
   "execution_count": null,
   "metadata": {},
   "outputs": [],
   "source": [
    "class Trajectory():\n",
    "    def __init__(self) -> None:\n",
    "        # Noise.\n",
    "        self.ODOM_NOISE =     gtsam.noiseModel.Diagonal.Sigmas(np.array([0.3, 0.3, 0.1]))\n",
    "        self.LANDMARK_NOISE = gtsam.noiseModel.Diagonal.Sigmas(np.array([0.03, 0.03, 0.03]))\n",
    "        self.PRIOR_NOISE =    gtsam.noiseModel.Diagonal.Sigmas(np.array([0.00003, 0.00003, 0.00001]))\n",
    "\n",
    "        # Landmarks.\n",
    "        self.landmarks = set()\n",
    "\n",
    "        # Measurements. Mapping nodes to RangeMeasurement's/\n",
    "        self.measurements = {}\n",
    "        \n",
    "        # Keep track of xy edges and build matrix C only after optimizing for angles.\n",
    "        self.edges = []\n",
    "\n",
    "        # Should we optimize after every edge addition?\n",
    "        self.online = False"
   ]
  },
  {
   "cell_type": "markdown",
   "metadata": {},
   "source": [
    "### Inverse Transformations."
   ]
  },
  {
   "cell_type": "code",
   "execution_count": null,
   "metadata": {},
   "outputs": [],
   "source": []
  },
  {
   "cell_type": "markdown",
   "metadata": {},
   "source": [
    "# Landmark observations.\n",
    "What and why\n",
    "\n",
    "Observation model. Adding observations to our class.\n",
    "Relating pose estimates via landmark observations (loop closures)"
   ]
  },
  {
   "cell_type": "markdown",
   "metadata": {},
   "source": [
    "### Creating virtual measurements between poses."
   ]
  },
  {
   "cell_type": "code",
   "execution_count": null,
   "metadata": {},
   "outputs": [],
   "source": [
    "# Given a dictionary relating odometry pose estimates to landmarks, and a relative pose between an odometry estimate and some landmark return a list of relative poses between the other nodes that have seen this landmark."
   ]
  },
  {
   "cell_type": "code",
   "execution_count": null,
   "metadata": {},
   "outputs": [],
   "source": []
  },
  {
   "cell_type": "markdown",
   "metadata": {},
   "source": [
    "### Optimization Primer\n",
    "\n",
    "In this section we are not going to dive too deep into the background of optimization theory. In fact, we will almost completely leave the actual optimization of the pose graph  (the trajectory optimization) as a black box.\n",
    "\n",
    "It is helpful, however, to understand what optimization is and how it could be solved."
   ]
  },
  {
   "cell_type": "code",
   "execution_count": null,
   "metadata": {},
   "outputs": [],
   "source": [
    "# Least squares line fitting.\n"
   ]
  },
  {
   "cell_type": "markdown",
   "metadata": {},
   "source": [
    "### Trajectory Optimization.\n",
    "\n",
    "Formulation of cost function and analogy to least squares linear regression\n",
    "\n",
    "provide code for optimization."
   ]
  }
 ],
 "metadata": {
  "kernelspec": {
   "display_name": "Python 3.8.10 64-bit",
   "language": "python",
   "name": "python3"
  },
  "language_info": {
   "codemirror_mode": {
    "name": "ipython",
    "version": 3
   },
   "file_extension": ".py",
   "mimetype": "text/x-python",
   "name": "python",
   "nbconvert_exporter": "python",
   "pygments_lexer": "ipython3",
   "version": "3.8.10"
  },
  "orig_nbformat": 4,
  "vscode": {
   "interpreter": {
    "hash": "916dbcbb3f70747c44a77c7bcd40155683ae19c65e1c03b4aa3499c5328201f1"
   }
  }
 },
 "nbformat": 4,
 "nbformat_minor": 2
}
